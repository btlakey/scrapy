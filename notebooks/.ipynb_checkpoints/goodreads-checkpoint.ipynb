{
 "cells": [
  {
   "cell_type": "code",
   "execution_count": 2,
   "id": "5bf89861",
   "metadata": {},
   "outputs": [],
   "source": [
    "import scrapy"
   ]
  },
  {
   "cell_type": "code",
   "execution_count": 74,
   "id": "d67611f7",
   "metadata": {},
   "outputs": [],
   "source": [
    "from pathlib import Path\n",
    "\n",
    "import scrapy\n",
    "\n",
    "\n",
    "class ShelvesSpider(scrapy.Spider):\n",
    "    name = \"shelves\"\n",
    "\n",
    "    # start_urls implements start_requests() with urls under the hood\n",
    "    \n",
    "    shelf_names = [\"favorite\", \"reread\", \"must\", \"best\"]\n",
    "    shelf_names_re = \"|\".join(shelf_names)\n",
    "\n",
    "    # superseded by start_urls\n",
    "    def start_requests(self):\n",
    "        \"\"\" must be an iterable of requests \"\"\"\n",
    "        \n",
    "        urls = [\n",
    "            \"https://www.goodreads.com/review/list/40648422\",\n",
    "        ]\n",
    "        for url in urls:\n",
    "            yield scrapy.Request(url=url, callback=self.parse)\n",
    "            \n",
    "    def get_shelf_urls(self, response):\n",
    "        yield response.xpath(\n",
    "            f\"//*[@id='paginatedShelfList']//*[re:test(@title, '{self.shelf_names_re}')]/@href\"\n",
    "        )\n",
    "        \n",
    "    def parse(self, response):\n",
    "        \"\"\" handle response from each request \"\"\"\n",
    "        shelf_urls = self.get_shelf_urls(response)\n",
    "        for shelf_url in shelf_urls:\n",
    "            shelf_page = reponse.urljoin(shelf_url)\n",
    "            shelf = scrapy.Request(shelf_page, callback=self.parse)\n",
    "        yield shelf.body()"
   ]
  },
  {
   "cell_type": "code",
   "execution_count": 80,
   "id": "a431ea65",
   "metadata": {},
   "outputs": [
    {
     "ename": "AttributeError",
     "evalue": "'generator' object has no attribute 'getall'",
     "output_type": "error",
     "traceback": [
      "\u001b[0;31m---------------------------------------------------------------------------\u001b[0m",
      "\u001b[0;31mAttributeError\u001b[0m                            Traceback (most recent call last)",
      "\u001b[0;32m/tmp/ipykernel_27171/3636848616.py\u001b[0m in \u001b[0;36m<module>\u001b[0;34m\u001b[0m\n\u001b[1;32m      1\u001b[0m \u001b[0mspider\u001b[0m \u001b[0;34m=\u001b[0m \u001b[0mShelvesSpider\u001b[0m\u001b[0;34m(\u001b[0m\u001b[0;34m)\u001b[0m\u001b[0;34m\u001b[0m\u001b[0;34m\u001b[0m\u001b[0m\n\u001b[1;32m      2\u001b[0m \u001b[0mresponse\u001b[0m \u001b[0;34m=\u001b[0m \u001b[0mspider\u001b[0m\u001b[0;34m.\u001b[0m\u001b[0mstart_requests\u001b[0m\u001b[0;34m(\u001b[0m\u001b[0;34m)\u001b[0m\u001b[0;34m\u001b[0m\u001b[0;34m\u001b[0m\u001b[0m\n\u001b[0;32m----> 3\u001b[0;31m \u001b[0mlist\u001b[0m\u001b[0;34m(\u001b[0m\u001b[0mresponse\u001b[0m\u001b[0;34m.\u001b[0m\u001b[0mgetall\u001b[0m\u001b[0;34m(\u001b[0m\u001b[0;34m)\u001b[0m\u001b[0;34m)\u001b[0m\u001b[0;34m\u001b[0m\u001b[0;34m\u001b[0m\u001b[0m\n\u001b[0m\u001b[1;32m      4\u001b[0m \u001b[0mshelves\u001b[0m \u001b[0;34m=\u001b[0m \u001b[0mspider\u001b[0m\u001b[0;34m.\u001b[0m\u001b[0mget_shelf_urls\u001b[0m\u001b[0;34m(\u001b[0m\u001b[0mresponse\u001b[0m\u001b[0;34m)\u001b[0m\u001b[0;34m\u001b[0m\u001b[0;34m\u001b[0m\u001b[0m\n\u001b[1;32m      5\u001b[0m \u001b[0mlist\u001b[0m\u001b[0;34m(\u001b[0m\u001b[0mresponse\u001b[0m\u001b[0;34m)\u001b[0m\u001b[0;34m\u001b[0m\u001b[0;34m\u001b[0m\u001b[0m\n",
      "\u001b[0;31mAttributeError\u001b[0m: 'generator' object has no attribute 'getall'"
     ]
    }
   ],
   "source": [
    "spider = ShelvesSpider()\n",
    "response = spider.start_requests()\n",
    "list(response.getall())\n",
    "shelves = spider.get_shelf_urls(response)\n",
    "list(response)"
   ]
  },
  {
   "cell_type": "code",
   "execution_count": null,
   "id": "e2774832",
   "metadata": {},
   "outputs": [],
   "source": []
  },
  {
   "cell_type": "code",
   "execution_count": 81,
   "id": "ea117a0b",
   "metadata": {},
   "outputs": [],
   "source": [
    "class ShelvesSpider(scrapy.Spider):\n",
    "    name = 'author'\n",
    "\n",
    "    start_urls = [\"https://www.goodreads.com/review/list/40648422\"]\n",
    "\n",
    "    def parse(self, response):\n",
    "        shelf_urls = response.xpath(\n",
    "                f\"//*[@id='paginatedShelfList']//*[re:test(@title, '{self.shelf_names_re}')]/@href\"\n",
    "            )\n",
    "        yield from response.follow_all(shelf_urls, self.parse_shelves)\n",
    "\n",
    "    def parse_shelves(self, response):\n",
    "        yield response.xpath(\"//*[@id='booksBody']\").get()\n"
   ]
  },
  {
   "cell_type": "code",
   "execution_count": 87,
   "id": "0fb20600",
   "metadata": {},
   "outputs": [
    {
     "ename": "AttributeError",
     "evalue": "'generator' object has no attribute 'xpath'",
     "output_type": "error",
     "traceback": [
      "\u001b[0;31m---------------------------------------------------------------------------\u001b[0m",
      "\u001b[0;31mAttributeError\u001b[0m                            Traceback (most recent call last)",
      "\u001b[0;32m/tmp/ipykernel_27171/2965225259.py\u001b[0m in \u001b[0;36m<module>\u001b[0;34m\u001b[0m\n\u001b[1;32m      2\u001b[0m \u001b[0mresponse\u001b[0m \u001b[0;34m=\u001b[0m \u001b[0mspider\u001b[0m\u001b[0;34m.\u001b[0m\u001b[0mstart_requests\u001b[0m\u001b[0;34m(\u001b[0m\u001b[0;34m)\u001b[0m\u001b[0;34m\u001b[0m\u001b[0;34m\u001b[0m\u001b[0m\n\u001b[1;32m      3\u001b[0m \u001b[0mshelves\u001b[0m \u001b[0;34m=\u001b[0m \u001b[0mspider\u001b[0m\u001b[0;34m.\u001b[0m\u001b[0mparse\u001b[0m\u001b[0;34m(\u001b[0m\u001b[0mresponse\u001b[0m\u001b[0;34m)\u001b[0m\u001b[0;34m\u001b[0m\u001b[0;34m\u001b[0m\u001b[0m\n\u001b[0;32m----> 4\u001b[0;31m \u001b[0mlist\u001b[0m\u001b[0;34m(\u001b[0m\u001b[0mshelves\u001b[0m\u001b[0;34m)\u001b[0m\u001b[0;34m\u001b[0m\u001b[0;34m\u001b[0m\u001b[0m\n\u001b[0m",
      "\u001b[0;32m/tmp/ipykernel_27171/3562314144.py\u001b[0m in \u001b[0;36mparse\u001b[0;34m(self, response)\u001b[0m\n\u001b[1;32m      5\u001b[0m \u001b[0;34m\u001b[0m\u001b[0m\n\u001b[1;32m      6\u001b[0m     \u001b[0;32mdef\u001b[0m \u001b[0mparse\u001b[0m\u001b[0;34m(\u001b[0m\u001b[0mself\u001b[0m\u001b[0;34m,\u001b[0m \u001b[0mresponse\u001b[0m\u001b[0;34m)\u001b[0m\u001b[0;34m:\u001b[0m\u001b[0;34m\u001b[0m\u001b[0;34m\u001b[0m\u001b[0m\n\u001b[0;32m----> 7\u001b[0;31m         shelf_urls = response.xpath(\n\u001b[0m\u001b[1;32m      8\u001b[0m                 \u001b[0;34mf\"//*[@id='paginatedShelfList']//*[re:test(@title, '{self.shelf_names_re}')]/@href\"\u001b[0m\u001b[0;34m\u001b[0m\u001b[0;34m\u001b[0m\u001b[0m\n\u001b[1;32m      9\u001b[0m             )\n",
      "\u001b[0;31mAttributeError\u001b[0m: 'generator' object has no attribute 'xpath'"
     ]
    }
   ],
   "source": [
    "spider = ShelvesSpider()\n",
    "response = spider.start_requests()\n",
    "shelves = spider.parse(response)\n",
    "list(shelves)"
   ]
  },
  {
   "cell_type": "code",
   "execution_count": null,
   "id": "145f98b2",
   "metadata": {},
   "outputs": [],
   "source": []
  }
 ],
 "metadata": {
  "kernelspec": {
   "display_name": "Python 3 (ipykernel)",
   "language": "python",
   "name": "python3"
  },
  "language_info": {
   "codemirror_mode": {
    "name": "ipython",
    "version": 3
   },
   "file_extension": ".py",
   "mimetype": "text/x-python",
   "name": "python",
   "nbconvert_exporter": "python",
   "pygments_lexer": "ipython3",
   "version": "3.7.16"
  }
 },
 "nbformat": 4,
 "nbformat_minor": 5
}
